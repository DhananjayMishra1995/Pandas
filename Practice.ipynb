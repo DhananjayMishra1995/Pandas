{
 "cells": [
  {
   "cell_type": "code",
   "execution_count": 2,
   "id": "477f19c2",
   "metadata": {},
   "outputs": [],
   "source": [
    "import pandas as pd"
   ]
  },
  {
   "cell_type": "code",
   "execution_count": null,
   "id": "d4e69f0f",
   "metadata": {},
   "outputs": [],
   "source": []
  },
  {
   "cell_type": "markdown",
   "id": "7a8e0b56",
   "metadata": {},
   "source": [
    "## Ques 1 Make a Pandas DataFrame with two-dimensional list "
   ]
  },
  {
   "cell_type": "code",
   "execution_count": 5,
   "id": "5776726a",
   "metadata": {},
   "outputs": [
    {
     "data": {
      "text/html": [
       "<div>\n",
       "<style scoped>\n",
       "    .dataframe tbody tr th:only-of-type {\n",
       "        vertical-align: middle;\n",
       "    }\n",
       "\n",
       "    .dataframe tbody tr th {\n",
       "        vertical-align: top;\n",
       "    }\n",
       "\n",
       "    .dataframe thead th {\n",
       "        text-align: right;\n",
       "    }\n",
       "</style>\n",
       "<table border=\"1\" class=\"dataframe\">\n",
       "  <thead>\n",
       "    <tr style=\"text-align: right;\">\n",
       "      <th></th>\n",
       "      <th>Name</th>\n",
       "      <th>BigData</th>\n",
       "      <th>DataScience</th>\n",
       "      <th>MathematicalModelling</th>\n",
       "    </tr>\n",
       "  </thead>\n",
       "  <tbody>\n",
       "    <tr>\n",
       "      <th>0</th>\n",
       "      <td>John</td>\n",
       "      <td>36</td>\n",
       "      <td>40</td>\n",
       "      <td>29</td>\n",
       "    </tr>\n",
       "    <tr>\n",
       "      <th>1</th>\n",
       "      <td>Mic</td>\n",
       "      <td>49</td>\n",
       "      <td>30</td>\n",
       "      <td>29</td>\n",
       "    </tr>\n",
       "    <tr>\n",
       "      <th>2</th>\n",
       "      <td>Rick</td>\n",
       "      <td>48</td>\n",
       "      <td>47</td>\n",
       "      <td>1</td>\n",
       "    </tr>\n",
       "    <tr>\n",
       "      <th>3</th>\n",
       "      <td>Rock</td>\n",
       "      <td>43</td>\n",
       "      <td>45</td>\n",
       "      <td>46</td>\n",
       "    </tr>\n",
       "  </tbody>\n",
       "</table>\n",
       "</div>"
      ],
      "text/plain": [
       "   Name  BigData  DataScience  MathematicalModelling\n",
       "0  John       36           40                     29\n",
       "1   Mic       49           30                     29\n",
       "2  Rick       48           47                      1\n",
       "3  Rock       43           45                     46"
      ]
     },
     "execution_count": 5,
     "metadata": {},
     "output_type": "execute_result"
    }
   ],
   "source": [
    "# Creating a list with 2-dimension\n",
    "\n",
    "list1 = [['John',36,40,29],\n",
    "        ['Mic',49,30,29],\n",
    "        ['Rick',48,47,1],\n",
    "        ['Rock',43,45,46]]\n",
    "\n",
    "## Here one list presents one row..\n",
    "\n",
    "\n",
    "\n",
    "#Creating a Dataframe\n",
    "DataFrame = pd.DataFrame(list1, columns=['Name','BigData','DataScience','MathematicalModelling'])\n",
    "DataFrame"
   ]
  },
  {
   "cell_type": "markdown",
   "id": "5b32244e",
   "metadata": {},
   "source": [
    "### Ques 2 Creating DataFrame from dict of narray/lists"
   ]
  },
  {
   "cell_type": "code",
   "execution_count": 8,
   "id": "fc8d3828",
   "metadata": {},
   "outputs": [
    {
     "data": {
      "text/html": [
       "<div>\n",
       "<style scoped>\n",
       "    .dataframe tbody tr th:only-of-type {\n",
       "        vertical-align: middle;\n",
       "    }\n",
       "\n",
       "    .dataframe tbody tr th {\n",
       "        vertical-align: top;\n",
       "    }\n",
       "\n",
       "    .dataframe thead th {\n",
       "        text-align: right;\n",
       "    }\n",
       "</style>\n",
       "<table border=\"1\" class=\"dataframe\">\n",
       "  <thead>\n",
       "    <tr style=\"text-align: right;\">\n",
       "      <th></th>\n",
       "      <th>Name</th>\n",
       "      <th>BigData</th>\n",
       "      <th>DataScience</th>\n",
       "      <th>MathematicalModelling</th>\n",
       "    </tr>\n",
       "  </thead>\n",
       "  <tbody>\n",
       "    <tr>\n",
       "      <th>0</th>\n",
       "      <td>John</td>\n",
       "      <td>36</td>\n",
       "      <td>40</td>\n",
       "      <td>29</td>\n",
       "    </tr>\n",
       "    <tr>\n",
       "      <th>1</th>\n",
       "      <td>Mic</td>\n",
       "      <td>49</td>\n",
       "      <td>30</td>\n",
       "      <td>29</td>\n",
       "    </tr>\n",
       "    <tr>\n",
       "      <th>2</th>\n",
       "      <td>Rick</td>\n",
       "      <td>48</td>\n",
       "      <td>47</td>\n",
       "      <td>1</td>\n",
       "    </tr>\n",
       "    <tr>\n",
       "      <th>3</th>\n",
       "      <td>Rock</td>\n",
       "      <td>43</td>\n",
       "      <td>45</td>\n",
       "      <td>46</td>\n",
       "    </tr>\n",
       "  </tbody>\n",
       "</table>\n",
       "</div>"
      ],
      "text/plain": [
       "   Name  BigData  DataScience  MathematicalModelling\n",
       "0  John       36           40                     29\n",
       "1   Mic       49           30                     29\n",
       "2  Rick       48           47                      1\n",
       "3  Rock       43           45                     46"
      ]
     },
     "execution_count": 8,
     "metadata": {},
     "output_type": "execute_result"
    }
   ],
   "source": [
    "## Creating a dictionary\n",
    "\n",
    "dict1 = {'Name':['John','Mic','Rick','Rock'],\n",
    "        'BigData':[36,49,48,43],\n",
    "        'DataScience':[40,30,47,45],\n",
    "        'MathematicalModelling':[29,29,1,46]}\n",
    "\n",
    "## Here one key-value is associated with one column..\n",
    "\n",
    "#Creating a DataFrame\n",
    "DataFrame= pd.DataFrame(dict1)\n",
    "DataFrame"
   ]
  },
  {
   "cell_type": "markdown",
   "id": "dd72c16a",
   "metadata": {},
   "source": [
    "### Ques 3 Create a Pandas DataFrame from List of Dicts"
   ]
  },
  {
   "cell_type": "code",
   "execution_count": 11,
   "id": "fcfc6aad",
   "metadata": {},
   "outputs": [
    {
     "data": {
      "text/html": [
       "<div>\n",
       "<style scoped>\n",
       "    .dataframe tbody tr th:only-of-type {\n",
       "        vertical-align: middle;\n",
       "    }\n",
       "\n",
       "    .dataframe tbody tr th {\n",
       "        vertical-align: top;\n",
       "    }\n",
       "\n",
       "    .dataframe thead th {\n",
       "        text-align: right;\n",
       "    }\n",
       "</style>\n",
       "<table border=\"1\" class=\"dataframe\">\n",
       "  <thead>\n",
       "    <tr style=\"text-align: right;\">\n",
       "      <th></th>\n",
       "      <th>Name</th>\n",
       "      <th>BigData</th>\n",
       "      <th>DataScience</th>\n",
       "      <th>MathematicalModelling</th>\n",
       "    </tr>\n",
       "  </thead>\n",
       "  <tbody>\n",
       "    <tr>\n",
       "      <th>0</th>\n",
       "      <td>John</td>\n",
       "      <td>36</td>\n",
       "      <td>40</td>\n",
       "      <td>29</td>\n",
       "    </tr>\n",
       "    <tr>\n",
       "      <th>1</th>\n",
       "      <td>Mic</td>\n",
       "      <td>49</td>\n",
       "      <td>30</td>\n",
       "      <td>29</td>\n",
       "    </tr>\n",
       "    <tr>\n",
       "      <th>2</th>\n",
       "      <td>Rick</td>\n",
       "      <td>48</td>\n",
       "      <td>47</td>\n",
       "      <td>1</td>\n",
       "    </tr>\n",
       "    <tr>\n",
       "      <th>3</th>\n",
       "      <td>Rock</td>\n",
       "      <td>43</td>\n",
       "      <td>45</td>\n",
       "      <td>46</td>\n",
       "    </tr>\n",
       "  </tbody>\n",
       "</table>\n",
       "</div>"
      ],
      "text/plain": [
       "   Name  BigData  DataScience  MathematicalModelling\n",
       "0  John       36           40                     29\n",
       "1   Mic       49           30                     29\n",
       "2  Rick       48           47                      1\n",
       "3  Rock       43           45                     46"
      ]
     },
     "execution_count": 11,
     "metadata": {},
     "output_type": "execute_result"
    }
   ],
   "source": [
    "# Creating a list of Dicts\n",
    "\n",
    "dict2 = [{'Name':'John','BigData':36,'DataScience':40,'MathematicalModelling':29},\n",
    "        {'Name':'Mic','BigData':49,'DataScience':30,'MathematicalModelling':29},\n",
    "        {'Name':'Rick','BigData':48,'DataScience':47,'MathematicalModelling':1},\n",
    "        {'Name':'Rock','BigData':43,'DataScience':45,'MathematicalModelling':46}]\n",
    "\n",
    "## Here we have key as the column name and values as the row.\n",
    "DataFrame = pd.DataFrame(dict2)\n",
    "DataFrame"
   ]
  },
  {
   "cell_type": "code",
   "execution_count": null,
   "id": "ed5db1c6",
   "metadata": {},
   "outputs": [],
   "source": []
  }
 ],
 "metadata": {
  "kernelspec": {
   "display_name": "Python 3 (ipykernel)",
   "language": "python",
   "name": "python3"
  },
  "language_info": {
   "codemirror_mode": {
    "name": "ipython",
    "version": 3
   },
   "file_extension": ".py",
   "mimetype": "text/x-python",
   "name": "python",
   "nbconvert_exporter": "python",
   "pygments_lexer": "ipython3",
   "version": "3.11.4"
  }
 },
 "nbformat": 4,
 "nbformat_minor": 5
}
